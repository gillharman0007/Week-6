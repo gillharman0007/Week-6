{
 "cells": [
  {
   "cell_type": "code",
   "execution_count": 7,
   "id": "41dd139f-ea1e-4a18-a43a-5888dc2c0fdd",
   "metadata": {},
   "outputs": [
    {
     "name": "stdout",
     "output_type": "stream",
     "text": [
      "Customer: Manraj\n",
      "Account 100005 Balance: $0.00\n",
      "Invalid withdrawal.\n",
      "Customer: Manraj\n",
      "Account 100005 Balance: $50.00\n",
      "Deposit of $100.00 on Account 1001\n",
      "Withdrawal of $50.00 on Account 1001\n"
     ]
    }
   ],
   "source": [
    "class Account:\n",
    "    def __init__(self, account_number, balance=0.0):\n",
    "        self.account_number = account_number\n",
    "        self.balance = balance\n",
    "\n",
    "    def deposit(self, amount):\n",
    "        if amount > 0:\n",
    "            self.balance += amount\n",
    "        else:\n",
    "            print(\"Invalid deposit amount.\")\n",
    "\n",
    "    def withdraw(self, amount):\n",
    "        if 0 < amount <= self.balance:\n",
    "            self.balance -= amount\n",
    "        else:\n",
    "            print(\"Invalid withdrawal.\")\n",
    "\n",
    "    def display_balance(self):\n",
    "        print(f\"Account {self.account_number} Balance: ${self.balance:.2f}\")\n",
    "\n",
    "class Customer:\n",
    "    def __init__(self, name, account):\n",
    "        self.name = name\n",
    "        self.account = account\n",
    "\n",
    "    def show_details(self):\n",
    "        print(f\"Customer: {self.name}\")\n",
    "        self.account.display_balance()\n",
    "\n",
    "class Transaction:\n",
    "    def __init__(self):\n",
    "        self.history = []\n",
    "\n",
    "    def record_transaction(self, account_number, amount, transaction_type):\n",
    "        self.history.append({\"Account\": account_number, \"Type\": transaction_type, \"Amount\": amount})\n",
    "\n",
    "    def show_transactions(self):\n",
    "        for transaction in self.history:\n",
    "            print(f\"{transaction['Type']} of ${transaction['Amount']:.2f} on Account {transaction['Account']}\")\n",
    "\n",
    "# Testing\n",
    "account = Account(account_number=100005, balance=1000.0)\n",
    "customer = Customer(name=\"Manraj\", account=account)\n",
    "transactions = Transaction()\n",
    "\n",
    "customer.show_details()\n",
    "account.deposit(2000)\n",
    "transactions.record_transaction(100005, 100, \"Deposit\")\n",
    "account.withdraw(50)\n",
    "transactions.record_transaction(1001, 50, \"Withdrawal\")\n",
    "account.withdraw(500)  # Invalid transaction\n",
    "customer.show_details()\n",
    "transactions.show_transactions()\n"
   ]
  },
  {
   "cell_type": "code",
   "execution_count": null,
   "id": "deb3fc2c-1cb5-4154-9d5d-094c6212774e",
   "metadata": {},
   "outputs": [],
   "source": []
  }
 ],
 "metadata": {
  "kernelspec": {
   "display_name": "Python 3 (ipykernel)",
   "language": "python",
   "name": "python3"
  },
  "language_info": {
   "codemirror_mode": {
    "name": "ipython",
    "version": 3
   },
   "file_extension": ".py",
   "mimetype": "text/x-python",
   "name": "python",
   "nbconvert_exporter": "python",
   "pygments_lexer": "ipython3",
   "version": "3.12.7"
  }
 },
 "nbformat": 4,
 "nbformat_minor": 5
}
