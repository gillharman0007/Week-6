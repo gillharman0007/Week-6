{
 "cells": [
  {
   "cell_type": "code",
   "execution_count": 1,
   "id": "444b6a6d-fe3a-4fac-b06e-65a74e0bfd4c",
   "metadata": {},
   "outputs": [
    {
     "name": "stdout",
     "output_type": "stream",
     "text": [
      "says Woof!\n",
      "says Meow!\n",
      "says Chirp!\n"
     ]
    }
   ],
   "source": [
    "class Animal:\n",
    "    def __init__(self, name):\n",
    "        self.name = name\n",
    "    \n",
    "    def speak(self):\n",
    "        return \"Some generic animal sound\"\n",
    "\n",
    "class Dog(Animal):\n",
    "    def speak(self):\n",
    "        return \"says Woof!\"\n",
    "\n",
    "class Cat(Animal):\n",
    "    def speak(self):\n",
    "        return \"says Meow!\"\n",
    "\n",
    "class Bird(Animal):\n",
    "    def speak(self):\n",
    "        return \"says Chirp!\"\n",
    "\n",
    "# Testing Inheritance\n",
    "dog = Dog(\"Buddy\")\n",
    "cat = Cat(\"Whiskers\")\n",
    "bird = Bird(\"Tweety\")\n",
    "\n",
    "print(dog.speak())\n",
    "print(cat.speak()) \n",
    "print(bird.speak())"
   ]
  },
  {
   "cell_type": "code",
   "execution_count": 4,
   "id": "547446cb-36da-4efe-8cc3-90206afe845c",
   "metadata": {},
   "outputs": [
    {
     "name": "stdout",
     "output_type": "stream",
     "text": [
      "FORD: Engine is starting...\n",
      "Battery at 89%\n"
     ]
    }
   ],
   "source": [
    "class Engine:\n",
    "    def __init__(self, horsepower):\n",
    "        self.horsepower = horsepower\n",
    "    \n",
    "    def start(self):\n",
    "        return \"Engine is starting...\"\n",
    "\n",
    "class Car:\n",
    "    def __init__(self, model, engine):\n",
    "        self.model = model\n",
    "        self.engine = engine\n",
    "    \n",
    "    def start_car(self):\n",
    "        return f\"{self.model}: {self.engine.start()}\"\n",
    "\n",
    "class Battery:\n",
    "    def __init__(self, charge_level):\n",
    "        self.charge_level = charge_level\n",
    "\n",
    "    def status(self):\n",
    "        return f\"Battery at {self.charge_level}%\"\n",
    "\n",
    "engine = Engine(200)\n",
    "car = Car(\"FORD\", engine)\n",
    "battery = Battery(89)\n",
    "\n",
    "print(car.start_car()) \n",
    "print(battery.status()) \n"
   ]
  },
  {
   "cell_type": "code",
   "execution_count": 5,
   "id": "24117aa1-01d0-440e-97fe-8bd9f26c4bb6",
   "metadata": {},
   "outputs": [
    {
     "name": "stdout",
     "output_type": "stream",
     "text": [
      "says Woof!\n",
      "says Meow!\n",
      "says Chirp!\n",
      "Strum... a nice chord!\n"
     ]
    }
   ],
   "source": [
    "def make_animal_speak(animal):\n",
    "    return animal.speak()\n",
    "\n",
    "class Guitar:\n",
    "    def speak(self):\n",
    "        return \"Strum... a nice chord!\"\n",
    "animals = [Dog(\"Rex\"), Cat(\"Luna\"), Bird(\"Tweety\")]\n",
    "guitar = Guitar()\n",
    "\n",
    "for animal in animals:\n",
    "    print(make_animal_speak(animal))\n",
    "\n",
    "print(make_animal_speak(guitar)) \n"
   ]
  },
  {
   "cell_type": "code",
   "execution_count": null,
   "id": "b7970f76-65b5-4bef-b0ad-28756bc64689",
   "metadata": {},
   "outputs": [],
   "source": []
  }
 ],
 "metadata": {
  "kernelspec": {
   "display_name": "Python 3 (ipykernel)",
   "language": "python",
   "name": "python3"
  },
  "language_info": {
   "codemirror_mode": {
    "name": "ipython",
    "version": 3
   },
   "file_extension": ".py",
   "mimetype": "text/x-python",
   "name": "python",
   "nbconvert_exporter": "python",
   "pygments_lexer": "ipython3",
   "version": "3.12.7"
  }
 },
 "nbformat": 4,
 "nbformat_minor": 5
}
